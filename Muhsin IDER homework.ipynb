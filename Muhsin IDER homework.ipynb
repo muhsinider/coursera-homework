{
 "cells": [
  {
   "cell_type": "markdown",
   "id": "861c964a-dbf8-44ef-afc7-00936cc87599",
   "metadata": {},
   "source": [
    "Exercise 2 - Notebook Title\n",
    "**Coursera IBM data science homework**\n",
    "This is the title of my notebook."
   ]
  },
  {
   "cell_type": "markdown",
   "id": "86309932-2e70-408b-872f-3ae1ef4af8c3",
   "metadata": {},
   "source": [
    "Exercise 3 - Introduction\n",
    "**Welcome to my notebook! In this notebook, we will explore various data science tools and techniques.**"
   ]
  },
  {
   "cell_type": "markdown",
   "id": "9fe75775-0d99-4e60-9f45-167bda0b579e",
   "metadata": {},
   "source": [
    "**Exercise 4 - Data Science Languages are:**\n",
    "1-Python\n",
    "2-R\n",
    "3-Julia"
   ]
  },
  {
   "cell_type": "markdown",
   "id": "198eafb5-9882-46f9-988b-67176261e189",
   "metadata": {},
   "source": [
    " **Data Science Libraries are:**\n",
    "NumPy\n",
    "Pandas\n",
    "Matplotlib\n",
    "Scikit-learn\n",
    "TensorFlow\n",
    "PyTorch"
   ]
  },
  {
   "cell_type": "markdown",
   "id": "23d50439-504d-4204-86e2-0183b105d1d1",
   "metadata": {},
   "source": [
    "#Exercise 6 - Data Science Tools Table\n",
    "Tool\tDescription\n",
    "Jupyter\tInteractive notebooks for data exploration and analysis\n",
    "GitHub\tVersion control and collaboration platform for code\n",
    "SQL\tLanguage for managing and querying relational databases\n",
    "Tableau\tData visualization and business intelligence tool\n",
    "Apache Spark\tCluster computing system for large-scale data processing\n",
    "Docker\tContainerization platform for packaging and deploying applications in isolated environments\n",
    "\n",
    "# Exercise 6 - Data Science Tools Table\n",
    "\n",
    "| Tool         | Description                                                                                                      |\n",
    "|--------------|------------------------------------------------------------------------------------------------------------------|\n",
    "| Jupyter      | Interactive notebooks for data exploration and analysis                                                          |\n",
    "| GitHub       | Version control and collaboration platform for code                                                                |\n",
    "| SQL          | Language for managing and querying relational databases                                                            |\n",
    "| Tableau      | Data visualization and business intelligence tool                                                                 |\n",
    "| Apache Spark | Cluster computing system for large-scale data processing                                                          |\n",
    "| Docker       | Containerization platform for packaging and deploying applications in isolated environments                       |\n"
   ]
  },
  {
   "cell_type": "markdown",
   "id": "b6f155a6-8d68-4d57-a707-afc4c780dd2a",
   "metadata": {},
   "source": [
    "Exercise 7 - Arithmetic Expressions\n",
    "Below are some examples of arithmetic expressions using Python."
   ]
  },
  {
   "cell_type": "code",
   "execution_count": null,
   "id": "e9da71ea-23fd-4d7e-b1ef-1a323fa6d481",
   "metadata": {},
   "outputs": [],
   "source": [
    "#Exercise 8 - Multiplication and Addition\n",
    "a = 2\n",
    "b = 3\n",
    "c = a * b + 1\n",
    "print(c) # Output: 7\n",
    "print(a ,\"+\",  b ,\"+\",\" 1\",\"is\",c)"
   ]
  },
  {
   "cell_type": "code",
   "execution_count": null,
   "id": "01950907-209d-427c-a830-02eb91eccaf7",
   "metadata": {},
   "outputs": [],
   "source": [
    "#Exercise 9 - Minutes to Hours Conversion\n",
    "minutes = 120\n",
    "hours = minutes / 60\n",
    "print(hours) # Output: 2.0"
   ]
  },
  {
   "cell_type": "markdown",
   "id": "70d9c9a4-bf00-4755-beeb-9783c14f8158",
   "metadata": {},
   "source": [
    "Exercise 10 - Objectives\n",
    "1-Learn about data science languages and libraries\n",
    "2-Explore various data science tools\n",
    "3-Practice arithmetic expressions and basic calculations"
   ]
  },
  {
   "cell_type": "markdown",
   "id": "195f22f3-fb83-4b43-8732-2894d82ba228",
   "metadata": {},
   "source": [
    "This notebook was created by **Muhsin İDER.**"
   ]
  },
  {
   "cell_type": "markdown",
   "id": "a9c0cdd7-10c2-40b3-8948-ab6d2504d80b",
   "metadata": {},
   "source": [
    "Exercise 12 - Sharing the Notebook\n",
    "The notebook has been shared through a GitHub repository:\n",
    "https://github.com/muhsinider/coursera-homework/blob/0d07920f04f3fb96ce6963284f0db32b129823b2/Muhsin%20IDER%20homework.ipynb\n"
   ]
  },
  {
   "cell_type": "markdown",
   "id": "d9a18790-7371-4962-abf1-be92d283670f",
   "metadata": {},
   "source": [
    "Exercise 13 - Screenshot\n",
    "A screenshot of the first page of the notebook was taken "
   ]
  }
 ],
 "metadata": {
  "kernelspec": {
   "display_name": "Python",
   "language": "python",
   "name": "conda-env-python-py"
  },
  "language_info": {
   "codemirror_mode": {
    "name": "ipython",
    "version": 3
   },
   "file_extension": ".py",
   "mimetype": "text/x-python",
   "name": "python",
   "nbconvert_exporter": "python",
   "pygments_lexer": "ipython3",
   "version": "3.7.12"
  }
 },
 "nbformat": 4,
 "nbformat_minor": 5
}
