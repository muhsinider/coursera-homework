{
 "cells": [
  {
   "cell_type": "markdown",
   "metadata": {},
   "source": [
    "<center>\n",
    "    <img src=\"https://cf-courses-data.s3.us.cloud-object-storage.appdomain.cloud/IBMDeveloperSkillsNetwork-DS0105EN-SkillsNetwork/labs/Module2/images/SN_web_lightmode.png\" width=\"300\" alt=\"cognitiveclass.ai logo\">\n",
    "</center>\n"
   ]
  },
  {
   "cell_type": "markdown",
   "metadata": {},
   "source": [
    "#### Add your code below following the instructions given in the course\n"
   ]
  },
  {
   "cell_type": "markdown",
   "metadata": {},
   "source": [
    "#My Jupyter Notebook on IBM Watson Studio"
   ]
  },
  {
   "cell_type": "markdown",
   "metadata": {},
   "source": [
    "**Muhsin IDER**\n",
    "data scientist"
   ]
  },
  {
   "cell_type": "markdown",
   "metadata": {},
   "source": [
    "I am interested in data science because of financial reasons."
   ]
  },
  {
   "cell_type": "markdown",
   "metadata": {},
   "source": [
    "***In cell 5, my code will calculate 5 factorial***"
   ]
  },
  {
   "cell_type": "code",
   "execution_count": null,
   "metadata": {},
   "outputs": [],
   "source": [
    "#factorial calculator\n",
    "# give or enter a number to calculate its factorial\n",
    "#calculate the factorial of m=5 and print result\n",
    "m=5\n",
    "n=(1*2*3*5)\n",
    "print(\"factorial of \",m,\"is m!=\",n)"
   ]
  },
  {
   "cell_type": "markdown",
   "metadata": {},
   "source": [
    "numberedlist:\n",
    "Engineering Ethics Guidelines\n",
    "As an engineer, it is important to uphold ethical standards in your work. Here are some guidelines to follow:\n",
    "\n",
    "1-Always prioritize the safety and well-being of the public.\n",
    "2-dont lie, Be honest and transparent in your work and communications.\n",
    "3-Avoid conflicts of interest and ensure that your decisions are based on objective criteria.\n",
    "4-Continuously improve your knowledge and skills to enhance your work.\n",
    "5-Respect the intellectual property of others.\n",
    "\n",
    "Strikethrough Text:\n",
    "The initial design plan was rejected needs to be revised based on feedback.\n",
    "\n",
    "Blocked Quote from Albert Einstein:\n",
    "\"The important thing is not to stop questioning. Curiosity has its own reason for existence.\"\n",
    "\n",
    "Blocked Quote from Nikola Tesla\n",
    "\"The present is theirs; the future, for which I have really worked, is mine.\""
   ]
  },
  {
   "cell_type": "markdown",
   "metadata": {},
   "source": []
  }
 ],
 "metadata": {
  "kernelspec": {
   "display_name": "Python",
   "language": "python",
   "name": "conda-env-python-py"
  },
  "language_info": {
   "codemirror_mode": {
    "name": "ipython",
    "version": 3
   },
   "file_extension": ".py",
   "mimetype": "text/x-python",
   "name": "python",
   "nbconvert_exporter": "python",
   "pygments_lexer": "ipython3",
   "version": "3.7.12"
  }
 },
 "nbformat": 4,
 "nbformat_minor": 4
}
